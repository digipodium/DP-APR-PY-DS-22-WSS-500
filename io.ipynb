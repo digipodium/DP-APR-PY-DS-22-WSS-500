{
 "cells": [
  {
   "cell_type": "code",
   "execution_count": 1,
   "metadata": {},
   "outputs": [
    {
     "name": "stdout",
     "output_type": "stream",
     "text": [
      "this is an example\n"
     ]
    }
   ],
   "source": [
    "print(\"this is an example\")"
   ]
  },
  {
   "cell_type": "code",
   "execution_count": 1,
   "metadata": {},
   "outputs": [],
   "source": [
    "x = input()"
   ]
  },
  {
   "cell_type": "code",
   "execution_count": 4,
   "metadata": {},
   "outputs": [],
   "source": [
    "name = input(\"What is your name? \")\n",
    "college =  input(\"What college do you go to? \")\n",
    "city = input(\"What city do you live in? \")"
   ]
  },
  {
   "cell_type": "code",
   "execution_count": 5,
   "metadata": {},
   "outputs": [
    {
     "name": "stdout",
     "output_type": "stream",
     "text": [
      "Alexander Alexandria University Alexandria\n"
     ]
    }
   ],
   "source": [
    "print(name, college, city)"
   ]
  },
  {
   "cell_type": "markdown",
   "metadata": {},
   "source": [
    "- datatype of input values is always 'string'\n",
    "- developer needs to cast the datatype on the input value\n",
    "- casting functions are available in python\n",
    "    - `int()` => converts string to integer\n",
    "    - `float()` => converts string to float\n",
    "    - `str()` => converts anythong to string\n",
    "    - `bool()` => converts anything to boolean"
   ]
  },
  {
   "cell_type": "code",
   "execution_count": 3,
   "metadata": {},
   "outputs": [
    {
     "name": "stdout",
     "output_type": "stream",
     "text": [
      "900\n"
     ]
    }
   ],
   "source": [
    "num1 = input(\"Enter a number: \")\n",
    "num2 = input(\"Enter another number: \")\n",
    "num1 = int(num1)\n",
    "num2 = int(num2)\n",
    "print(num1 * num2)"
   ]
  },
  {
   "cell_type": "code",
   "execution_count": 11,
   "metadata": {},
   "outputs": [
    {
     "name": "stdout",
     "output_type": "stream",
     "text": [
      "179\n"
     ]
    }
   ],
   "source": [
    "n1 = int(input(\"Enter a number: \"))\n",
    "n2 = int(input(\"Enter another number: \"))\n",
    "print(n1 + n2)"
   ]
  },
  {
   "cell_type": "code",
   "execution_count": 7,
   "metadata": {},
   "outputs": [
    {
     "data": {
      "text/plain": [
       "483"
      ]
     },
     "execution_count": 7,
     "metadata": {},
     "output_type": "execute_result"
    }
   ],
   "source": [
    "x = 23\n",
    "y = 21\n",
    "eval('x * y')"
   ]
  },
  {
   "cell_type": "code",
   "execution_count": 9,
   "metadata": {},
   "outputs": [
    {
     "data": {
      "text/plain": [
       "46"
      ]
     },
     "execution_count": 9,
     "metadata": {},
     "output_type": "execute_result"
    }
   ],
   "source": [
    "uinput = input(\"enter a condition: \")\n",
    "eval(uinput)"
   ]
  },
  {
   "cell_type": "markdown",
   "metadata": {},
   "source": [
    "# `print()`\n",
    "- five different ways to display content\n",
    "- 2 different options"
   ]
  },
  {
   "cell_type": "code",
   "execution_count": 19,
   "metadata": {},
   "outputs": [],
   "source": [
    "x = 35\n",
    "y = 10\n",
    "z = x + y"
   ]
  },
  {
   "cell_type": "markdown",
   "metadata": {},
   "source": [
    "`the value of x and y is z`"
   ]
  },
  {
   "cell_type": "code",
   "execution_count": 24,
   "metadata": {},
   "outputs": [
    {
     "name": "stdout",
     "output_type": "stream",
     "text": [
      "the value of 35 and 10 is 45\n"
     ]
    }
   ],
   "source": [
    "print('the value of', x,'and',y, 'is', z) # simplest way to display msg with variables"
   ]
  },
  {
   "cell_type": "code",
   "execution_count": 25,
   "metadata": {},
   "outputs": [
    {
     "name": "stdout",
     "output_type": "stream",
     "text": [
      "the value of 35 and 10 is 45\n"
     ]
    }
   ],
   "source": [
    "print('the value of %d and %d is %d'%(x,y,z)) # another way to display msg with variables"
   ]
  },
  {
   "cell_type": "code",
   "execution_count": 27,
   "metadata": {},
   "outputs": [
    {
     "name": "stdout",
     "output_type": "stream",
     "text": [
      "the value of 35 and 10 is 45\n"
     ]
    }
   ],
   "source": [
    "print('the value of ' + str(x) + ' and ' + str(y) + ' is ' + str(z)) "
   ]
  },
  {
   "cell_type": "code",
   "execution_count": 28,
   "metadata": {},
   "outputs": [
    {
     "name": "stdout",
     "output_type": "stream",
     "text": [
      "the value of 35 and 10 is 45\n"
     ]
    }
   ],
   "source": [
    "# before python 3.6 \n",
    "print('the value of {} and {} is {}'.format(x,y,z))"
   ]
  },
  {
   "cell_type": "code",
   "execution_count": 29,
   "metadata": {},
   "outputs": [
    {
     "name": "stdout",
     "output_type": "stream",
     "text": [
      "the value of 35 and 10 is 45\n"
     ]
    }
   ],
   "source": [
    "# after python 3.6 ⭐⭐⭐\n",
    "print(f'the value of {x} and {y} is {z}')"
   ]
  },
  {
   "cell_type": "markdown",
   "metadata": {},
   "source": [
    "displaying float in a f-string"
   ]
  },
  {
   "cell_type": "code",
   "execution_count": 30,
   "metadata": {},
   "outputs": [
    {
     "name": "stdout",
     "output_type": "stream",
     "text": [
      "12.464634343432\n"
     ]
    }
   ],
   "source": [
    "sigma = 12.464634343432\n",
    "print(sigma) "
   ]
  },
  {
   "cell_type": "code",
   "execution_count": 33,
   "metadata": {},
   "outputs": [
    {
     "name": "stdout",
     "output_type": "stream",
     "text": [
      "the value of 12.46\n"
     ]
    }
   ],
   "source": [
    "print(f'the value of {sigma:.2f}') # 2 decimal places"
   ]
  },
  {
   "cell_type": "code",
   "execution_count": 35,
   "metadata": {},
   "outputs": [
    {
     "name": "stdout",
     "output_type": "stream",
     "text": [
      "the value of 12.465\n"
     ]
    }
   ],
   "source": [
    "print(f'the value of {sigma:.3f}') # 3 decimal places"
   ]
  },
  {
   "cell_type": "code",
   "execution_count": 36,
   "metadata": {},
   "outputs": [
    {
     "name": "stdout",
     "output_type": "stream",
     "text": [
      "the value of 12.5\n"
     ]
    }
   ],
   "source": [
    "print(f'the value of {sigma:.1f}') # 1 decimal places"
   ]
  },
  {
   "cell_type": "code",
   "execution_count": 37,
   "metadata": {},
   "outputs": [
    {
     "name": "stdout",
     "output_type": "stream",
     "text": [
      "35 10 45 35 45 45 35 35 45\n"
     ]
    }
   ],
   "source": [
    "print(x,y,z,x,z,z,x,x,z,)"
   ]
  },
  {
   "cell_type": "code",
   "execution_count": 40,
   "metadata": {},
   "outputs": [
    {
     "name": "stdout",
     "output_type": "stream",
     "text": [
      "35❌10❌45❌35❌45❌35❌45\n"
     ]
    }
   ],
   "source": [
    "print(x,y,z,x,z,x,z,sep='❌')"
   ]
  },
  {
   "cell_type": "code",
   "execution_count": 42,
   "metadata": {},
   "outputs": [
    {
     "name": "stdout",
     "output_type": "stream",
     "text": [
      "amar_kumar\n"
     ]
    }
   ],
   "source": [
    "print('amar','kumar',sep='_')"
   ]
  },
  {
   "cell_type": "code",
   "execution_count": 45,
   "metadata": {},
   "outputs": [
    {
     "name": "stdout",
     "output_type": "stream",
     "text": [
      "he\n",
      "llo\n",
      "world\n",
      "everyone\n"
     ]
    }
   ],
   "source": [
    "print('hello')\n",
    "print('world')\n",
    "print('everyone')"
   ]
  },
  {
   "cell_type": "code",
   "execution_count": 46,
   "metadata": {},
   "outputs": [
    {
     "name": "stdout",
     "output_type": "stream",
     "text": [
      "hello?"
     ]
    }
   ],
   "source": [
    "print('hello', end='?')"
   ]
  },
  {
   "cell_type": "code",
   "execution_count": 48,
   "metadata": {},
   "outputs": [
    {
     "name": "stdout",
     "output_type": "stream",
     "text": [
      "hello world👌everyone🤘"
     ]
    }
   ],
   "source": [
    "print('hello',end=' ')\n",
    "print('world',end='👌')\n",
    "print('everyone',end='🤘')\n",
    "print('finish')"
   ]
  },
  {
   "cell_type": "code",
   "execution_count": null,
   "metadata": {},
   "outputs": [],
   "source": []
  }
 ],
 "metadata": {
  "interpreter": {
   "hash": "e57a68d6f262d97f125619281d03f1809b3b5ef85e9f1be4b8c94bbbf10b388b"
  },
  "kernelspec": {
   "display_name": "Python 3.9.7 ('base')",
   "language": "python",
   "name": "python3"
  },
  "language_info": {
   "codemirror_mode": {
    "name": "ipython",
    "version": 3
   },
   "file_extension": ".py",
   "mimetype": "text/x-python",
   "name": "python",
   "nbconvert_exporter": "python",
   "pygments_lexer": "ipython3",
   "version": "3.9.7"
  },
  "orig_nbformat": 4
 },
 "nbformat": 4,
 "nbformat_minor": 2
}
