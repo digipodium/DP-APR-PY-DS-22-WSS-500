{
 "cells": [
  {
   "cell_type": "code",
   "execution_count": 1,
   "metadata": {},
   "outputs": [
    {
     "name": "stdout",
     "output_type": "stream",
     "text": [
      "{'kallan', 'lallan', 'ramu', 'sallan', 'shamu'}\n"
     ]
    }
   ],
   "source": [
    "frds = {'ramu','shamu','lallan','sallan','kallan'}\n",
    "print(frds)"
   ]
  },
  {
   "cell_type": "code",
   "execution_count": 3,
   "metadata": {},
   "outputs": [
    {
     "name": "stdout",
     "output_type": "stream",
     "text": [
      "{'Legion : Skin deep', 'Warbreaker', 'Calamity', 'The rhytm of war', 'Steelheart'}\n"
     ]
    }
   ],
   "source": [
    "books = set()\n",
    "for i in range(5):\n",
    "    books.add(input('Enter a book: '))\n",
    "print(books)"
   ]
  },
  {
   "cell_type": "code",
   "execution_count": 4,
   "metadata": {},
   "outputs": [
    {
     "name": "stdout",
     "output_type": "stream",
     "text": [
      "{1, 2, 3, 4} [1, 2, 3, 4]\n"
     ]
    }
   ],
   "source": [
    "x = {1,2,3,4}\n",
    "xl = list(x)\n",
    "print(x, xl)"
   ]
  },
  {
   "cell_type": "code",
   "execution_count": 5,
   "metadata": {},
   "outputs": [
    {
     "name": "stdout",
     "output_type": "stream",
     "text": [
      "{1, 2, 3, 4} (1, 2, 3, 4)\n"
     ]
    }
   ],
   "source": [
    "xt = tuple(x)\n",
    "print(x, xt)"
   ]
  },
  {
   "cell_type": "code",
   "execution_count": 6,
   "metadata": {},
   "outputs": [
    {
     "name": "stdout",
     "output_type": "stream",
     "text": [
      "[1, 2, 3, 1, 2, 3, 4, 5, 1, 2, 4] {1, 2, 3, 4, 5}\n"
     ]
    }
   ],
   "source": [
    "dx = [1,2,3,1,2,3,4,5,1,2,4]\n",
    "ds = set(dx)\n",
    "print(dx, ds)"
   ]
  },
  {
   "cell_type": "code",
   "execution_count": 7,
   "metadata": {},
   "outputs": [
    {
     "name": "stdout",
     "output_type": "stream",
     "text": [
      "['Narendra', 'Artificial Intelligence', 40, True, False, 18]\n"
     ]
    }
   ],
   "source": [
    "info = [\"Narendra\",'Artificial Intelligence',40,True,False,18]\n",
    "print(info)"
   ]
  },
  {
   "cell_type": "code",
   "execution_count": 8,
   "metadata": {},
   "outputs": [
    {
     "name": "stdout",
     "output_type": "stream",
     "text": [
      "{'name': 'Narendra', 'subject': 'Artificial Intelligence', 'age': 40, 'married': True, 'is_student': False, 'ID': 18}\n"
     ]
    }
   ],
   "source": [
    "info_dict = {\n",
    "    'name':'Narendra',\n",
    "    'subject':'Artificial Intelligence',\n",
    "    'age':40,\n",
    "    'married':True,\n",
    "    'is_student':False,\n",
    "    'ID':18\n",
    "}\n",
    "print(info_dict)"
   ]
  },
  {
   "cell_type": "code",
   "execution_count": 10,
   "metadata": {},
   "outputs": [
    {
     "data": {
      "text/plain": [
       "40"
      ]
     },
     "execution_count": 10,
     "metadata": {},
     "output_type": "execute_result"
    }
   ],
   "source": [
    "info_dict['age']"
   ]
  },
  {
   "cell_type": "code",
   "execution_count": 13,
   "metadata": {},
   "outputs": [
    {
     "ename": "KeyError",
     "evalue": "'is_asdd'",
     "output_type": "error",
     "traceback": [
      "\u001b[1;31m---------------------------------------------------------------------------\u001b[0m",
      "\u001b[1;31mKeyError\u001b[0m                                  Traceback (most recent call last)",
      "\u001b[1;32m~\\AppData\\Local\\Temp\\ipykernel_4820\\290455453.py\u001b[0m in \u001b[0;36m<cell line: 1>\u001b[1;34m()\u001b[0m\n\u001b[1;32m----> 1\u001b[1;33m \u001b[0minfo_dict\u001b[0m\u001b[1;33m[\u001b[0m\u001b[1;34m'is_asdd'\u001b[0m\u001b[1;33m]\u001b[0m\u001b[1;33m\u001b[0m\u001b[1;33m\u001b[0m\u001b[0m\n\u001b[0m",
      "\u001b[1;31mKeyError\u001b[0m: 'is_asdd'"
     ]
    }
   ],
   "source": [
    "info_dict['is_asdd']"
   ]
  },
  {
   "cell_type": "code",
   "execution_count": 14,
   "metadata": {},
   "outputs": [],
   "source": [
    "del books"
   ]
  },
  {
   "cell_type": "code",
   "execution_count": 15,
   "metadata": {},
   "outputs": [],
   "source": [
    "del ds"
   ]
  }
 ],
 "metadata": {
  "interpreter": {
   "hash": "203ec5af3e26acf3e3c83a4183d4b4efe59642f60e2721ccf6236536a59ece46"
  },
  "kernelspec": {
   "display_name": "Python 3.9.7 ('base')",
   "language": "python",
   "name": "python3"
  },
  "language_info": {
   "codemirror_mode": {
    "name": "ipython",
    "version": 3
   },
   "file_extension": ".py",
   "mimetype": "text/x-python",
   "name": "python",
   "nbconvert_exporter": "python",
   "pygments_lexer": "ipython3",
   "version": "3.9.7"
  },
  "orig_nbformat": 4
 },
 "nbformat": 4,
 "nbformat_minor": 2
}
