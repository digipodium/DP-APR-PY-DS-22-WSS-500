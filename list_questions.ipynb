{
 "cells": [
  {
   "cell_type": "markdown",
   "metadata": {},
   "source": [
    "#### Question 1. Create a list of size `n`, with random numbers from 0 to 100"
   ]
  },
  {
   "cell_type": "code",
   "execution_count": 4,
   "metadata": {},
   "outputs": [
    {
     "name": "stdout",
     "output_type": "stream",
     "text": [
      "[99, 6, 35, 15, 93, 17, 9, 78, 20, 13, 78, 32, 48, 53, 72, 60, 70, 70, 21, 23, 10, 21, 27, 25, 71, 5, 54, 39, 34, 96, 24, 86, 9, 42, 50, 81, 94, 22, 90, 56, 51, 43, 34, 72, 70, 4, 56, 33, 43, 94, 58, 21, 5, 48, 88, 7, 4, 17, 54, 98, 100, 50, 79, 30, 22, 15, 74, 73, 33, 49, 51, 92, 2, 99, 63, 78, 13, 68, 34, 5, 90, 43, 7, 96, 51, 7, 68, 90, 13, 82, 79, 49, 39, 70, 96, 89, 92, 26, 98, 64]\n"
     ]
    }
   ],
   "source": [
    "from random import randint\n",
    "\n",
    "n = int(input(\"Size of List: \")) # size of list\n",
    "x = []                           # empty list\n",
    "for i in range(n):\n",
    "    val = randint(1,100)         # random number between 1 and 100\n",
    "    x.append(val)                # add value to list\n",
    "print(x)"
   ]
  },
  {
   "cell_type": "markdown",
   "metadata": {},
   "source": [
    "#### Question 2. Calculate the mean, max, min, sum of the list"
   ]
  },
  {
   "cell_type": "code",
   "execution_count": 7,
   "metadata": {},
   "outputs": [
    {
     "name": "stdout",
     "output_type": "stream",
     "text": [
      "Total: 5027\n",
      "Min: 2\n",
      "Max: 100\n",
      "Mean: 50.27\n"
     ]
    }
   ],
   "source": [
    "total = sum(x)\n",
    "xmin = min(x)\n",
    "xmax = max(x)\n",
    "xmean = total/len(x)\n",
    "print(\"Total:\", total)\n",
    "print(\"Min:\", xmin)\n",
    "print(\"Max:\", xmax)\n",
    "print(\"Mean:\", xmean)\n",
    "\n",
    "# more builtins functiosn at python.org\n"
   ]
  },
  {
   "cell_type": "markdown",
   "metadata": {},
   "source": [
    "#### Question3. generate a list of 25 elements, then create a smaller list of numbers from that list based on the following conditions:\n",
    "- number that is divisible by 3\n",
    "- number that is divisible by 5\n",
    "- number that is divisible by both 3 and 5"
   ]
  },
  {
   "cell_type": "code",
   "execution_count": 13,
   "metadata": {},
   "outputs": [
    {
     "name": "stdout",
     "output_type": "stream",
     "text": [
      "[1, 2, 3, 4, 5, 6, 7, 8, 9, 10, 11, 12, 13, 14, 15, 16, 17, 18, 19, 20, 21, 22, 23, 24, 25]\n",
      "[3, 5, 6, 9, 10, 12, 15, 18, 20, 21, 24, 25]\n"
     ]
    }
   ],
   "source": [
    "x = list(range(1,26))\n",
    "print(x)\n",
    "xs = []\n",
    "for i in x:\n",
    "    if i % 3 == 0 and i % 5 == 0:\n",
    "        xs.append(i)\n",
    "    elif i % 3 == 0:\n",
    "        xs.append(i)\n",
    "    elif i % 5 == 0:\n",
    "        xs.append(i)\n",
    "print(xs)"
   ]
  },
  {
   "cell_type": "markdown",
   "metadata": {},
   "source": [
    "#### Question 4. Remove every 3rd element from the list from a list of size 25 and print the list"
   ]
  },
  {
   "cell_type": "code",
   "execution_count": 24,
   "metadata": {},
   "outputs": [
    {
     "name": "stdout",
     "output_type": "stream",
     "text": [
      "[101, 102, 103, 105, 106, 107, 109, 110, 111, 113, 114, 115, 117, 118, 119, 121, 122, 123]\n"
     ]
    }
   ],
   "source": [
    "x = list(range(100,125))\n",
    "for i,v in enumerate(x):\n",
    "    if i % 3 == 0:\n",
    "        x.pop(i)\n",
    "print(x)    "
   ]
  },
  {
   "cell_type": "markdown",
   "metadata": {},
   "source": [
    "#### take names of 10 movies from user and store them in a list, then display the list in a sorted order"
   ]
  },
  {
   "cell_type": "code",
   "execution_count": 27,
   "metadata": {},
   "outputs": [
    {
     "name": "stdout",
     "output_type": "stream",
     "text": [
      "['a', 'a', 'a', 'a', 'a', 'a', 'b', 'c', 'd', 'w']\n"
     ]
    }
   ],
   "source": [
    "movies = []\n",
    "for i in range(10):\n",
    "    movie = input(\"Enter a movie: \")\n",
    "    movies.append(movie)\n",
    "movies.sort()\n",
    "print(movies)"
   ]
  },
  {
   "cell_type": "markdown",
   "metadata": {},
   "source": [
    "### create a nested list that contains triplets at each index\n",
    "```\n",
    "[[1, 2, 3],[4, 5, 6],[7, 8, 9]]\n",
    "```"
   ]
  },
  {
   "cell_type": "code",
   "execution_count": 32,
   "metadata": {},
   "outputs": [
    {
     "name": "stdout",
     "output_type": "stream",
     "text": [
      "[[0, 0, 0], [1, 1, 1], [2, 2, 2], [3, 3, 3], [4, 4, 4]]\n"
     ]
    }
   ],
   "source": [
    "x3 =[]\n",
    "for i in range(5):\n",
    "    x3.append([i,i,i])\n",
    "print(x3)"
   ]
  },
  {
   "cell_type": "code",
   "execution_count": 45,
   "metadata": {},
   "outputs": [
    {
     "name": "stdout",
     "output_type": "stream",
     "text": [
      "[[1, 2, 3], [4, 5, 6], [7, 8, 9]]\n"
     ]
    }
   ],
   "source": [
    "outer = []\n",
    "count = 1\n",
    "for i in range(1,4):\n",
    "    inner = []\n",
    "    for j in range(1,4):\n",
    "        inner.append(count)\n",
    "        count+=1\n",
    "    outer.append(inner)\n",
    "print(outer)\n"
   ]
  },
  {
   "cell_type": "code",
   "execution_count": null,
   "metadata": {},
   "outputs": [],
   "source": []
  }
 ],
 "metadata": {
  "interpreter": {
   "hash": "203ec5af3e26acf3e3c83a4183d4b4efe59642f60e2721ccf6236536a59ece46"
  },
  "kernelspec": {
   "display_name": "Python ('webs')",
   "language": "python",
   "name": "python3"
  },
  "language_info": {
   "codemirror_mode": {
    "name": "ipython",
    "version": 3
   },
   "file_extension": ".py",
   "mimetype": "text/x-python",
   "name": "python",
   "nbconvert_exporter": "python",
   "pygments_lexer": "ipython3",
   "version": "3.9.7"
  },
  "orig_nbformat": 4
 },
 "nbformat": 4,
 "nbformat_minor": 2
}
