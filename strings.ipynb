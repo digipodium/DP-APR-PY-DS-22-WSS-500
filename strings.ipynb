{
 "cells": [
  {
   "cell_type": "code",
   "execution_count": null,
   "metadata": {},
   "outputs": [],
   "source": [
    "word = 'Stormlight Archive'\n",
    "len(word)"
   ]
  },
  {
   "cell_type": "code",
   "execution_count": null,
   "metadata": {},
   "outputs": [],
   "source": [
    "print(word[-8], word[9], word[-1])"
   ]
  },
  {
   "cell_type": "code",
   "execution_count": null,
   "metadata": {},
   "outputs": [],
   "source": [
    "x = \"Sodium Carbonate\""
   ]
  },
  {
   "cell_type": "code",
   "execution_count": null,
   "metadata": {},
   "outputs": [],
   "source": [
    "x[:6]"
   ]
  },
  {
   "cell_type": "code",
   "execution_count": null,
   "metadata": {},
   "outputs": [],
   "source": [
    "x[7:]"
   ]
  },
  {
   "cell_type": "markdown",
   "metadata": {},
   "source": [
    "- String concatenation\n",
    "- String duplication (cloning) using  str * int"
   ]
  },
  {
   "cell_type": "code",
   "execution_count": null,
   "metadata": {},
   "outputs": [],
   "source": [
    "'Yo' * 5"
   ]
  },
  {
   "cell_type": "code",
   "execution_count": null,
   "metadata": {},
   "outputs": [],
   "source": [
    "print('-'* 11)\n",
    "print('Hello World')\n",
    "print('-'* 11)"
   ]
  },
  {
   "cell_type": "code",
   "execution_count": null,
   "metadata": {},
   "outputs": [],
   "source": [
    "w = \"Worldsingers\""
   ]
  },
  {
   "cell_type": "code",
   "execution_count": null,
   "metadata": {},
   "outputs": [],
   "source": [
    "list(w)"
   ]
  },
  {
   "cell_type": "code",
   "execution_count": null,
   "metadata": {},
   "outputs": [],
   "source": [
    "# slicing\n",
    "w[:5]"
   ]
  },
  {
   "cell_type": "code",
   "execution_count": null,
   "metadata": {},
   "outputs": [],
   "source": [
    "w[1::2] # odd indexes"
   ]
  },
  {
   "cell_type": "code",
   "execution_count": null,
   "metadata": {},
   "outputs": [],
   "source": [
    "w[::2] # even indexes"
   ]
  },
  {
   "cell_type": "code",
   "execution_count": null,
   "metadata": {},
   "outputs": [],
   "source": [
    "w[::-1] # reverse string"
   ]
  },
  {
   "cell_type": "code",
   "execution_count": null,
   "metadata": {},
   "outputs": [],
   "source": [
    "w"
   ]
  },
  {
   "cell_type": "code",
   "execution_count": null,
   "metadata": {},
   "outputs": [],
   "source": [
    "for i in range(1,6):\n",
    "    print(('O ' * i).rjust(10))"
   ]
  },
  {
   "cell_type": "code",
   "execution_count": null,
   "metadata": {},
   "outputs": [],
   "source": [
    "for i,v in enumerate(range(1,15,2)):\n",
    "    if i % 2 == 0:\n",
    "        print((v * ' O ').center(41,'#'))\n",
    "    else:\n",
    "        print((v * ' * ').center(41,'&'))\n"
   ]
  },
  {
   "cell_type": "markdown",
   "metadata": {},
   "source": [
    "functions"
   ]
  },
  {
   "cell_type": "code",
   "execution_count": null,
   "metadata": {},
   "outputs": [],
   "source": [
    "w.center?"
   ]
  },
  {
   "cell_type": "code",
   "execution_count": 11,
   "metadata": {},
   "outputs": [],
   "source": [
    "story = '''\n",
    "We begin in a distant haze. The first God King of Hallandren is ancient. Ancient, yes. Older than kingdoms and cities, older than monarchs and religions. Not older than the mountains, for they were already here. Like the knuckles of the sleeping giants below, they formed this valley, where panthers and flowers both make their home.\n",
    "We speak of just ‘the valley’ then, a place before it had a name. The people of Chedesh still dominated the world. They sailed the Inner Sea, coming from the east, and it was they who first discovered this strange land. Their writings are sparse, their empire has long since been taken by the dust, but memory remains. Perhaps you can imagine their surprise upon arriving here? A place with beaches of fine, soft sand, with fruits aplenty, and with strange, alien forests?\n",
    "Paradise, they called it.\n",
    "A paradise hidden between the mountains, a land with pleasant rains that never grew cold, a land where succulent food grew spontaneously.\n",
    "A land of color. \n",
    "Because of the Tears of Edgli, the striking flowers of such brilliance that could yield dyes that would hold fast in any cloth.\n",
    "The First Returned was born during this time. Aboard a ship that was sailing the coast. Returned can now be found in all parts of the world, but the first one—the man whom you call Vo, but we name only by his title—was born here, in the waters of this very bay. He declared the Five Visions. He died a week later.\n",
    "The men of his ship founded a kingdom upon these beaches, then called Hanald. Before their arrival, all that had existed in these jungles was the people of Pahn Kahl, more a mere collection of fishing villages than a true kingdom.\n",
    "Now, you may wonder why I must travel back so far. Should I not speak of the Manywar, of the shattering of kingdoms, of the Five Scholars, of Kalad the Usurper and his phantom army, which some say still hides in these jungles, waiting?\n",
    "'''"
   ]
  },
  {
   "cell_type": "code",
   "execution_count": null,
   "metadata": {},
   "outputs": [],
   "source": [
    "len(story)"
   ]
  },
  {
   "cell_type": "code",
   "execution_count": null,
   "metadata": {},
   "outputs": [],
   "source": [
    "words  = story.split()\n",
    "print(len(words))"
   ]
  },
  {
   "cell_type": "code",
   "execution_count": null,
   "metadata": {},
   "outputs": [],
   "source": [
    "story.split?"
   ]
  },
  {
   "cell_type": "code",
   "execution_count": null,
   "metadata": {},
   "outputs": [],
   "source": [
    "wordlist = ['Chocolate', 'is', 'good', 'for', 'your', 'health']"
   ]
  },
  {
   "cell_type": "code",
   "execution_count": null,
   "metadata": {},
   "outputs": [],
   "source": [
    "' '.join(wordlist)"
   ]
  },
  {
   "cell_type": "code",
   "execution_count": null,
   "metadata": {},
   "outputs": [],
   "source": [
    "story.replace('.','?')"
   ]
  },
  {
   "cell_type": "code",
   "execution_count": null,
   "metadata": {},
   "outputs": [],
   "source": [
    "story.replace('.','!!',3)"
   ]
  },
  {
   "cell_type": "code",
   "execution_count": 7,
   "metadata": {},
   "outputs": [
    {
     "data": {
      "text/plain": [
       "'\\nWE BEGIN IN A DISTANT HAZE. THE FIRST GOD KING OF HALLANDREN IS ANCIENT. ANCIENT, YES. OLDER THAN KINGDOMS AND CITIES, OLDER THAN MONARCHS AND RELIGIONS. NOT OLDER THAN THE MOUNTAINS, FOR THEY WERE ALREADY HERE. LIKE THE KNUCKLES OF THE SLEEPING GIANTS BELOW, THEY FORMED THIS VALLEY, WHERE PANTHERS AND FLOWERS BOTH MAKE THEIR HOME.\\nWE SPEAK OF JUST ‘THE VALLEY’ THEN, A PLACE BEFORE IT HAD A NAME. THE PEOPLE OF CHEDESH STILL DOMINATED THE WORLD. THEY SAILED THE INNER SEA, COMING FROM THE EAST, AND IT WAS THEY WHO FIRST DISCOVERED THIS STRANGE LAND. THEIR WRITINGS ARE SPARSE, THEIR EMPIRE HAS LONG SINCE BEEN TAKEN BY THE DUST, BUT MEMORY REMAINS. PERHAPS YOU CAN IMAGINE THEIR SURPRISE UPON ARRIVING HERE? A PLACE WITH BEACHES OF FINE, SOFT SAND, WITH FRUITS APLENTY, AND WITH STRANGE, ALIEN FORESTS?\\nPARADISE, THEY CALLED IT.\\nA PARADISE HIDDEN BETWEEN THE MOUNTAINS, A LAND WITH PLEASANT RAINS THAT NEVER GREW COLD, A LAND WHERE SUCCULENT FOOD GREW SPONTANEOUSLY.\\nA LAND OF COLOR. \\nBECAUSE OF THE TEARS OF EDGLI, THE STRIKING FLOWERS OF SUCH BRILLIANCE THAT COULD YIELD DYES THAT WOULD HOLD FAST IN ANY CLOTH.\\nTHE FIRST RETURNED WAS BORN DURING THIS TIME. ABOARD A SHIP THAT WAS SAILING THE COAST. RETURNED CAN NOW BE FOUND IN ALL PARTS OF THE WORLD, BUT THE FIRST ONE—THE MAN WHOM YOU CALL VO, BUT WE NAME ONLY BY HIS TITLE—WAS BORN HERE, IN THE WATERS OF THIS VERY BAY. HE DECLARED THE FIVE VISIONS. HE DIED A WEEK LATER.\\nTHE MEN OF HIS SHIP FOUNDED A KINGDOM UPON THESE BEACHES, THEN CALLED HANALD. BEFORE THEIR ARRIVAL, ALL THAT HAD EXISTED IN THESE JUNGLES WAS THE PEOPLE OF PAHN KAHL, MORE A MERE COLLECTION OF FISHING VILLAGES THAN A TRUE KINGDOM.\\nNOW, YOU MAY WONDER WHY I MUST TRAVEL BACK SO FAR. SHOULD I NOT SPEAK OF THE MANYWAR, OF THE SHATTERING OF KINGDOMS, OF THE FIVE SCHOLARS, OF KALAD THE USURPER AND HIS PHANTOM ARMY, WHICH SOME SAY STILL HIDES IN THESE JUNGLES, WAITING?\\n'"
      ]
     },
     "execution_count": 7,
     "metadata": {},
     "output_type": "execute_result"
    }
   ],
   "source": [
    "story.upper()"
   ]
  },
  {
   "cell_type": "code",
   "execution_count": 8,
   "metadata": {},
   "outputs": [
    {
     "data": {
      "text/plain": [
       "'\\nwe begin in a distant haze. the first god king of hallandren is ancient. ancient, yes. older than kingdoms and cities, older than monarchs and religions. not older than the mountains, for they were already here. like the knuckles of the sleeping giants below, they formed this valley, where panthers and flowers both make their home.\\nwe speak of just ‘the valley’ then, a place before it had a name. the people of chedesh still dominated the world. they sailed the inner sea, coming from the east, and it was they who first discovered this strange land. their writings are sparse, their empire has long since been taken by the dust, but memory remains. perhaps you can imagine their surprise upon arriving here? a place with beaches of fine, soft sand, with fruits aplenty, and with strange, alien forests?\\nparadise, they called it.\\na paradise hidden between the mountains, a land with pleasant rains that never grew cold, a land where succulent food grew spontaneously.\\na land of color. \\nbecause of the tears of edgli, the striking flowers of such brilliance that could yield dyes that would hold fast in any cloth.\\nthe first returned was born during this time. aboard a ship that was sailing the coast. returned can now be found in all parts of the world, but the first one—the man whom you call vo, but we name only by his title—was born here, in the waters of this very bay. he declared the five visions. he died a week later.\\nthe men of his ship founded a kingdom upon these beaches, then called hanald. before their arrival, all that had existed in these jungles was the people of pahn kahl, more a mere collection of fishing villages than a true kingdom.\\nnow, you may wonder why i must travel back so far. should i not speak of the manywar, of the shattering of kingdoms, of the five scholars, of kalad the usurper and his phantom army, which some say still hides in these jungles, waiting?\\n'"
      ]
     },
     "execution_count": 8,
     "metadata": {},
     "output_type": "execute_result"
    }
   ],
   "source": [
    "story.lower()"
   ]
  },
  {
   "cell_type": "code",
   "execution_count": 10,
   "metadata": {},
   "outputs": [
    {
     "data": {
      "text/plain": [
       "'We begin in a distant haze. the first god king of hallandren is ancient. ancient, yes. older than kingdoms and cities, older than monarchs and religions. not older than the mountains, for they were already here. like the knuckles of the sleeping giants below, they formed this valley, where panthers and flowers both make their home.\\nwe speak of just ‘the valley’ then, a place before it had a name. the people of chedesh still dominated the world. they sailed the inner sea, coming from the east, and it was they who first discovered this strange land. their writings are sparse, their empire has long since been taken by the dust, but memory remains. perhaps you can imagine their surprise upon arriving here? a place with beaches of fine, soft sand, with fruits aplenty, and with strange, alien forests?\\nparadise, they called it.\\na paradise hidden between the mountains, a land with pleasant rains that never grew cold, a land where succulent food grew spontaneously.\\na land of color. \\nbecause of the tears of edgli, the striking flowers of such brilliance that could yield dyes that would hold fast in any cloth.\\nthe first returned was born during this time. aboard a ship that was sailing the coast. returned can now be found in all parts of the world, but the first one—the man whom you call vo, but we name only by his title—was born here, in the waters of this very bay. he declared the five visions. he died a week later.\\nthe men of his ship founded a kingdom upon these beaches, then called hanald. before their arrival, all that had existed in these jungles was the people of pahn kahl, more a mere collection of fishing villages than a true kingdom.\\nnow, you may wonder why i must travel back so far. should i not speak of the manywar, of the shattering of kingdoms, of the five scholars, of kalad the usurper and his phantom army, which some say still hides in these jungles, waiting?'"
      ]
     },
     "execution_count": 10,
     "metadata": {},
     "output_type": "execute_result"
    }
   ],
   "source": [
    "story.strip().capitalize()"
   ]
  },
  {
   "cell_type": "code",
   "execution_count": 12,
   "metadata": {},
   "outputs": [
    {
     "data": {
      "text/plain": [
       "'\\nwE BEGIN IN A DISTANT HAZE. tHE FIRST gOD kING OF hALLANDREN IS ANCIENT. aNCIENT, YES. oLDER THAN KINGDOMS AND CITIES, OLDER THAN MONARCHS AND RELIGIONS. nOT OLDER THAN THE MOUNTAINS, FOR THEY WERE ALREADY HERE. lIKE THE KNUCKLES OF THE SLEEPING GIANTS BELOW, THEY FORMED THIS VALLEY, WHERE PANTHERS AND FLOWERS BOTH MAKE THEIR HOME.\\nwE SPEAK OF JUST ‘THE VALLEY’ THEN, A PLACE BEFORE IT HAD A NAME. tHE PEOPLE OF cHEDESH STILL DOMINATED THE WORLD. tHEY SAILED THE iNNER sEA, COMING FROM THE EAST, AND IT WAS THEY WHO FIRST DISCOVERED THIS STRANGE LAND. tHEIR WRITINGS ARE SPARSE, THEIR EMPIRE HAS LONG SINCE BEEN TAKEN BY THE DUST, BUT MEMORY REMAINS. pERHAPS YOU CAN IMAGINE THEIR SURPRISE UPON ARRIVING HERE? a PLACE WITH BEACHES OF FINE, SOFT SAND, WITH FRUITS APLENTY, AND WITH STRANGE, ALIEN FORESTS?\\npARADISE, THEY CALLED IT.\\na PARADISE HIDDEN BETWEEN THE MOUNTAINS, A LAND WITH PLEASANT RAINS THAT NEVER GREW COLD, A LAND WHERE SUCCULENT FOOD GREW SPONTANEOUSLY.\\na LAND OF COLOR. \\nbECAUSE OF THE tEARS OF eDGLI, THE STRIKING FLOWERS OF SUCH BRILLIANCE THAT COULD YIELD DYES THAT WOULD HOLD FAST IN ANY CLOTH.\\ntHE fIRST rETURNED WAS BORN DURING THIS TIME. aBOARD A SHIP THAT WAS SAILING THE COAST. rETURNED CAN NOW BE FOUND IN ALL PARTS OF THE WORLD, BUT THE FIRST ONE—THE MAN WHOM YOU CALL vO, BUT WE NAME ONLY BY HIS TITLE—WAS BORN HERE, IN THE WATERS OF THIS VERY BAY. hE DECLARED THE fIVE vISIONS. hE DIED A WEEK LATER.\\ntHE MEN OF HIS SHIP FOUNDED A KINGDOM UPON THESE BEACHES, THEN CALLED hANALD. bEFORE THEIR ARRIVAL, ALL THAT HAD EXISTED IN THESE JUNGLES WAS THE PEOPLE OF pAHN kAHL, MORE A MERE COLLECTION OF FISHING VILLAGES THAN A TRUE KINGDOM.\\nnOW, YOU MAY WONDER WHY i MUST TRAVEL BACK SO FAR. sHOULD i NOT SPEAK OF THE mANYWAR, OF THE SHATTERING OF KINGDOMS, OF THE fIVE sCHOLARS, OF kALAD THE uSURPER AND HIS PHANTOM ARMY, WHICH SOME SAY STILL HIDES IN THESE JUNGLES, WAITING?\\n'"
      ]
     },
     "execution_count": 12,
     "metadata": {},
     "output_type": "execute_result"
    }
   ],
   "source": [
    "story.swapcase()"
   ]
  },
  {
   "cell_type": "code",
   "execution_count": 13,
   "metadata": {},
   "outputs": [
    {
     "data": {
      "text/plain": [
       "'\\nwe begin in a distant haze. the first god king of hallandren is ancient. ancient, yes. older than kingdoms and cities, older than monarchs and religions. not older than the mountains, for they were already here. like the knuckles of the sleeping giants below, they formed this valley, where panthers and flowers both make their home.\\nwe speak of just ‘the valley’ then, a place before it had a name. the people of chedesh still dominated the world. they sailed the inner sea, coming from the east, and it was they who first discovered this strange land. their writings are sparse, their empire has long since been taken by the dust, but memory remains. perhaps you can imagine their surprise upon arriving here? a place with beaches of fine, soft sand, with fruits aplenty, and with strange, alien forests?\\nparadise, they called it.\\na paradise hidden between the mountains, a land with pleasant rains that never grew cold, a land where succulent food grew spontaneously.\\na land of color. \\nbecause of the tears of edgli, the striking flowers of such brilliance that could yield dyes that would hold fast in any cloth.\\nthe first returned was born during this time. aboard a ship that was sailing the coast. returned can now be found in all parts of the world, but the first one—the man whom you call vo, but we name only by his title—was born here, in the waters of this very bay. he declared the five visions. he died a week later.\\nthe men of his ship founded a kingdom upon these beaches, then called hanald. before their arrival, all that had existed in these jungles was the people of pahn kahl, more a mere collection of fishing villages than a true kingdom.\\nnow, you may wonder why i must travel back so far. should i not speak of the manywar, of the shattering of kingdoms, of the five scholars, of kalad the usurper and his phantom army, which some say still hides in these jungles, waiting?\\n'"
      ]
     },
     "execution_count": 13,
     "metadata": {},
     "output_type": "execute_result"
    }
   ],
   "source": [
    "story.casefold()"
   ]
  },
  {
   "cell_type": "code",
   "execution_count": 15,
   "metadata": {},
   "outputs": [
    {
     "data": {
      "text/plain": [
       "False"
      ]
     },
     "execution_count": 15,
     "metadata": {},
     "output_type": "execute_result"
    }
   ],
   "source": [
    "msg = input('enter anything:')\n",
    "msg.isalpha()"
   ]
  },
  {
   "cell_type": "code",
   "execution_count": 19,
   "metadata": {},
   "outputs": [
    {
     "name": "stdout",
     "output_type": "stream",
     "text": [
      "invalid number\n"
     ]
    }
   ],
   "source": [
    "msg = input('enter a number:')\n",
    "if msg.isnumeric():\n",
    "    print('valid number')\n",
    "else:\n",
    "    print('invalid number')"
   ]
  },
  {
   "cell_type": "code",
   "execution_count": 23,
   "metadata": {},
   "outputs": [
    {
     "data": {
      "text/plain": [
       "False"
      ]
     },
     "execution_count": 23,
     "metadata": {},
     "output_type": "execute_result"
    }
   ],
   "source": [
    "msg = input('enter anything:')\n",
    "msg.isalnum()"
   ]
  },
  {
   "cell_type": "code",
   "execution_count": 24,
   "metadata": {},
   "outputs": [
    {
     "data": {
      "text/plain": [
       "126"
      ]
     },
     "execution_count": 24,
     "metadata": {},
     "output_type": "execute_result"
    }
   ],
   "source": [
    "story.count('a')"
   ]
  },
  {
   "cell_type": "code",
   "execution_count": 26,
   "metadata": {},
   "outputs": [
    {
     "name": "stdout",
     "output_type": "stream",
     "text": [
      "20\n"
     ]
    }
   ],
   "source": [
    "occurance = story.count('of')\n",
    "print(occurance)"
   ]
  },
  {
   "cell_type": "code",
   "execution_count": null,
   "metadata": {},
   "outputs": [],
   "source": [
    "for char in \"abcdefghijklmnopqrstuvwxyz\":\n",
    "    print(char,story.count(char))"
   ]
  },
  {
   "cell_type": "code",
   "execution_count": 33,
   "metadata": {},
   "outputs": [
    {
     "name": "stdout",
     "output_type": "stream",
     "text": [
      " 89asd98as  11\n",
      " 89asd98as 10\n"
     ]
    }
   ],
   "source": [
    "name = input('enter your name:')\n",
    "print(name,len(name))\n",
    "# cleaning name\n",
    "name = name.strip()\n",
    "print(name,len(name))"
   ]
  },
  {
   "cell_type": "code",
   "execution_count": 43,
   "metadata": {},
   "outputs": [
    {
     "name": "stdout",
     "output_type": "stream",
     "text": [
      "Welcome gentlemen, Mr. Smith\n",
      "Welcome Milady, Mrs. Jones\n",
      "Welcome gentlemen, Mr. Williams\n",
      "Welcome gentlemen, Mr. Brown\n"
     ]
    }
   ],
   "source": [
    "guestlist = ['Mr. Smith', 'Mrs. Jones', 'Mr. Williams', 'Mr. Brown']\n",
    "for name in guestlist:\n",
    "    if name.startswith('Mr.'):\n",
    "        print(f'Welcome gentlemen, {name}')\n",
    "    if name.startswith('Mrs.'):\n",
    "        print(f'Welcome Milady, {name}')\n"
   ]
  },
  {
   "cell_type": "code",
   "execution_count": 44,
   "metadata": {},
   "outputs": [
    {
     "name": "stdout",
     "output_type": "stream",
     "text": [
      "Song.mp3 is Audio file\n",
      "Song.mp4 is Video file\n",
      "doc.txt is Text file\n",
      "doc2.txt is Text file\n",
      "doc3.txt is Text file\n",
      "Video.mp4 is Video file\n"
     ]
    }
   ],
   "source": [
    "files = ['Song.mp3', 'Song.mp4', 'doc.txt', 'doc2.txt', 'doc3.txt', 'Video.mp4']\n",
    "# display all file types\n",
    "for file in files:\n",
    "    if file.endswith('.mp3'):\n",
    "        print(f'{file} is Audio file')\n",
    "    elif file.endswith('.mp4'):\n",
    "        print(f'{file} is Video file')\n",
    "    elif file.endswith('.txt'):\n",
    "        print(f'{file} is Text file')"
   ]
  },
  {
   "cell_type": "markdown",
   "metadata": {},
   "source": [
    "##### ✅remove all vowels from a string entered by user"
   ]
  },
  {
   "cell_type": "code",
   "execution_count": 53,
   "metadata": {},
   "outputs": [
    {
     "name": "stdout",
     "output_type": "stream",
     "text": [
      "this is  messge, nd it is  long messge\n",
      "this is  mssg, nd it is  long mssg\n",
      "ths s  mssg, nd t s  long mssg\n",
      "ths s  mssg, nd t s  lng mssg\n",
      "ths s  mssg, nd t s  lng mssg\n",
      "ths s  mssg, nd t s  lng mssg\n",
      "ths s  mssg, nd t s  lng mssg\n",
      "ths s  mssg, nd t s  lng mssg\n",
      "ths s  mssg, nd t s  lng mssg\n",
      "ths s  mssg, nd t s  lng mssg\n"
     ]
    }
   ],
   "source": [
    "vowels = 'aeiouAEIOU'\n",
    "message = 'this is a message, and it is a long message'\n",
    "\n",
    "for vowel in vowels:\n",
    "    message = message.replace(vowel,'')\n",
    "    print(message)\n",
    "\n"
   ]
  },
  {
   "cell_type": "markdown",
   "metadata": {},
   "source": [
    "##### 🚩count all vowels from a string entered by user"
   ]
  },
  {
   "cell_type": "code",
   "execution_count": 55,
   "metadata": {},
   "outputs": [
    {
     "name": "stdout",
     "output_type": "stream",
     "text": [
      "a occurs 131 times\n",
      "e occurs 190 times\n",
      "i occurs 103 times\n",
      "o occurs 93 times\n",
      "u occurs 34 times\n"
     ]
    }
   ],
   "source": [
    "for vowel in \"aeiou\":\n",
    "    print(f\"{vowel} occurs {story.lower().count(vowel)} times\")"
   ]
  }
 ],
 "metadata": {
  "interpreter": {
   "hash": "203ec5af3e26acf3e3c83a4183d4b4efe59642f60e2721ccf6236536a59ece46"
  },
  "kernelspec": {
   "display_name": "Python 3.9.7 ('base')",
   "language": "python",
   "name": "python3"
  },
  "language_info": {
   "codemirror_mode": {
    "name": "ipython",
    "version": 3
   },
   "file_extension": ".py",
   "mimetype": "text/x-python",
   "name": "python",
   "nbconvert_exporter": "python",
   "pygments_lexer": "ipython3",
   "version": "3.9.7"
  },
  "orig_nbformat": 4
 },
 "nbformat": 4,
 "nbformat_minor": 2
}
