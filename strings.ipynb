{
 "cells": [
  {
   "cell_type": "code",
   "execution_count": null,
   "metadata": {},
   "outputs": [],
   "source": [
    "word = 'Stormlight Archive'\n",
    "len(word)"
   ]
  },
  {
   "cell_type": "code",
   "execution_count": null,
   "metadata": {},
   "outputs": [],
   "source": [
    "print(word[-8], word[9], word[-1])"
   ]
  },
  {
   "cell_type": "code",
   "execution_count": null,
   "metadata": {},
   "outputs": [],
   "source": [
    "x = \"Sodium Carbonate\""
   ]
  },
  {
   "cell_type": "code",
   "execution_count": null,
   "metadata": {},
   "outputs": [],
   "source": [
    "x[:6]"
   ]
  },
  {
   "cell_type": "code",
   "execution_count": null,
   "metadata": {},
   "outputs": [],
   "source": [
    "x[7:]"
   ]
  },
  {
   "cell_type": "markdown",
   "metadata": {},
   "source": [
    "- String concatenation\n",
    "- String duplication (cloning) using  str * int"
   ]
  },
  {
   "cell_type": "code",
   "execution_count": null,
   "metadata": {},
   "outputs": [],
   "source": [
    "'Yo' * 5"
   ]
  },
  {
   "cell_type": "code",
   "execution_count": null,
   "metadata": {},
   "outputs": [],
   "source": [
    "print('-'* 11)\n",
    "print('Hello World')\n",
    "print('-'* 11)"
   ]
  },
  {
   "cell_type": "code",
   "execution_count": null,
   "metadata": {},
   "outputs": [],
   "source": [
    "w = \"Worldsingers\""
   ]
  },
  {
   "cell_type": "code",
   "execution_count": null,
   "metadata": {},
   "outputs": [],
   "source": [
    "list(w)"
   ]
  },
  {
   "cell_type": "code",
   "execution_count": null,
   "metadata": {},
   "outputs": [],
   "source": [
    "# slicing\n",
    "w[:5]"
   ]
  },
  {
   "cell_type": "code",
   "execution_count": null,
   "metadata": {},
   "outputs": [],
   "source": [
    "w[1::2] # odd indexes"
   ]
  },
  {
   "cell_type": "code",
   "execution_count": null,
   "metadata": {},
   "outputs": [],
   "source": [
    "w[::2] # even indexes"
   ]
  },
  {
   "cell_type": "code",
   "execution_count": null,
   "metadata": {},
   "outputs": [],
   "source": [
    "w[::-1] # reverse string"
   ]
  },
  {
   "cell_type": "code",
   "execution_count": null,
   "metadata": {},
   "outputs": [],
   "source": [
    "w"
   ]
  },
  {
   "cell_type": "code",
   "execution_count": null,
   "metadata": {},
   "outputs": [],
   "source": [
    "for i in range(1,6):\n",
    "    print(('O ' * i).rjust(10))"
   ]
  },
  {
   "cell_type": "code",
   "execution_count": null,
   "metadata": {},
   "outputs": [],
   "source": [
    "for i,v in enumerate(range(1,15,2)):\n",
    "    if i % 2 == 0:\n",
    "        print((v * ' O ').center(41,'#'))\n",
    "    else:\n",
    "        print((v * ' * ').center(41,'&'))\n"
   ]
  },
  {
   "cell_type": "markdown",
   "metadata": {},
   "source": [
    "functions"
   ]
  },
  {
   "cell_type": "code",
   "execution_count": null,
   "metadata": {},
   "outputs": [],
   "source": [
    "w.center?"
   ]
  },
  {
   "cell_type": "code",
   "execution_count": null,
   "metadata": {},
   "outputs": [],
   "source": [
    "story = '''\n",
    "We begin in a distant haze. The first God King of Hallandren is ancient. Ancient, yes. Older than kingdoms and cities, older than monarchs and religions. Not older than the mountains, for they were already here. Like the knuckles of the sleeping giants below, they formed this valley, where panthers and flowers both make their home.\n",
    "We speak of just ‘the valley’ then, a place before it had a name. The people of Chedesh still dominated the world. They sailed the Inner Sea, coming from the east, and it was they who first discovered this strange land. Their writings are sparse, their empire has long since been taken by the dust, but memory remains. Perhaps you can imagine their surprise upon arriving here? A place with beaches of fine, soft sand, with fruits aplenty, and with strange, alien forests?\n",
    "Paradise, they called it.\n",
    "A paradise hidden between the mountains, a land with pleasant rains that never grew cold, a land where succulent food grew spontaneously.\n",
    "A land of color. \n",
    "Because of the Tears of Edgli, the striking flowers of such brilliance that could yield dyes that would hold fast in any cloth.\n",
    "The First Returned was born during this time. Aboard a ship that was sailing the coast. Returned can now be found in all parts of the world, but the first one—the man whom you call Vo, but we name only by his title—was born here, in the waters of this very bay. He declared the Five Visions. He died a week later.\n",
    "The men of his ship founded a kingdom upon these beaches, then called Hanald. Before their arrival, all that had existed in these jungles was the people of Pahn Kahl, more a mere collection of fishing villages than a true kingdom.\n",
    "Now, you may wonder why I must travel back so far. Should I not speak of the Manywar, of the shattering of kingdoms, of the Five Scholars, of Kalad the Usurper and his phantom army, which some say still hides in these jungles, waiting?\n",
    "'''"
   ]
  },
  {
   "cell_type": "code",
   "execution_count": null,
   "metadata": {},
   "outputs": [],
   "source": [
    "len(story)"
   ]
  },
  {
   "cell_type": "code",
   "execution_count": null,
   "metadata": {},
   "outputs": [],
   "source": [
    "words  = story.split()\n",
    "print(len(words))"
   ]
  },
  {
   "cell_type": "code",
   "execution_count": null,
   "metadata": {},
   "outputs": [],
   "source": [
    "story.split?"
   ]
  },
  {
   "cell_type": "code",
   "execution_count": null,
   "metadata": {},
   "outputs": [],
   "source": [
    "wordlist = ['Chocolate', 'is', 'good', 'for', 'your', 'health']"
   ]
  },
  {
   "cell_type": "code",
   "execution_count": null,
   "metadata": {},
   "outputs": [],
   "source": [
    "' '.join(wordlist)"
   ]
  },
  {
   "cell_type": "code",
   "execution_count": null,
   "metadata": {},
   "outputs": [],
   "source": [
    "story.replace('.','?')"
   ]
  },
  {
   "cell_type": "code",
   "execution_count": null,
   "metadata": {},
   "outputs": [],
   "source": [
    "story.replace('.','!!',3)"
   ]
  },
  {
   "cell_type": "code",
   "execution_count": 79,
   "metadata": {},
   "outputs": [
    {
     "data": {
      "text/plain": [
       "'\\nWe begin in a distant haze. The first God King of Hallandren is ancient. Ancient, yes. Older than kingdoms and cities, older than monarchs and religions. Not older than the mountains, for they were already here. Like the knuckles of the sleeping giants below, they formed this valley, where panthers and flowers both make their home.\\nWe speak of just ‘the valley’ then, a place before it had a name. The people of Chedesh still dominated the world. They sailed the Inner Sea, coming from the east, and it was they who first discovered this strange land. Their writings are sparse, their empire has long since been taken by the dust, but memory remains. Perhaps you can imagine their surprise upon arriving here? A place with beaches of fine, soft sand, with fruits aplenty, and with strange, alien forests?\\nParadise, they called it.\\nA paradise hidden between the mountains, a land with pleasant rains that never grew cold, a land where succulent food grew spontaneously.\\nA land of color. \\nBecause of the Tears of Edgli, the striking flowers of such brilliance that could yield dyes that would hold fast in any cloth.\\nThe First Returned was born during this time. Aboard a ship that was sailing the coast. Returned can now be found in all parts of the world, but the first one—the man whom you call Vo, but we name only by his title—was born here, in the waters of this very bay. He declared the Five Visions. He died a week later.\\nThe men of his ship founded a kingdom upon these beaches, then called Hanald. Before their arrival, all that had existed in these jungles was the people of Pahn Kahl, more a mere collection of fishing villages than a true kingdom.\\nNow, you may wonder why I must travel back so far. Should I not speak of the Manywar, of the shattering of kingdoms, of the Five Scholars, of Kalad the Usurper and his phantom army, which some say still hides in these jungles, waiting?\\n'"
      ]
     },
     "execution_count": 79,
     "metadata": {},
     "output_type": "execute_result"
    }
   ],
   "source": [
    "story"
   ]
  },
  {
   "cell_type": "code",
   "execution_count": null,
   "metadata": {},
   "outputs": [],
   "source": []
  }
 ],
 "metadata": {
  "interpreter": {
   "hash": "203ec5af3e26acf3e3c83a4183d4b4efe59642f60e2721ccf6236536a59ece46"
  },
  "kernelspec": {
   "display_name": "Python 3.9.7 ('base')",
   "language": "python",
   "name": "python3"
  },
  "language_info": {
   "codemirror_mode": {
    "name": "ipython",
    "version": 3
   },
   "file_extension": ".py",
   "mimetype": "text/x-python",
   "name": "python",
   "nbconvert_exporter": "python",
   "pygments_lexer": "ipython3",
   "version": "3.9.7"
  },
  "orig_nbformat": 4
 },
 "nbformat": 4,
 "nbformat_minor": 2
}
