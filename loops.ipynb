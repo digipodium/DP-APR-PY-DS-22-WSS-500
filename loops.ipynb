{
 "cells": [
  {
   "cell_type": "code",
   "execution_count": null,
   "metadata": {},
   "outputs": [],
   "source": [
    "x = \"PYTHON\"\n",
    "for i in x:\n",
    "    print(i)"
   ]
  },
  {
   "cell_type": "code",
   "execution_count": null,
   "metadata": {},
   "outputs": [],
   "source": [
    "story = \"Once upon a time...\"\n",
    "for char in story:\n",
    "    print(char, end=' ')"
   ]
  },
  {
   "cell_type": "code",
   "execution_count": null,
   "metadata": {},
   "outputs": [],
   "source": [
    "names = ['Alice', 'Bob', 'Charlie','David', 'Eve', 'Frank']\n",
    "for name in names:\n",
    "    print(name, len(name)) "
   ]
  },
  {
   "cell_type": "code",
   "execution_count": null,
   "metadata": {},
   "outputs": [],
   "source": [
    "len(names[2])"
   ]
  },
  {
   "cell_type": "markdown",
   "metadata": {},
   "source": [
    "#### wap to calcuate the total of all numbers from 1 to 50"
   ]
  },
  {
   "cell_type": "code",
   "execution_count": null,
   "metadata": {},
   "outputs": [],
   "source": [
    "total = 0\n",
    "for i in range(1,51):\n",
    "    total += i\n",
    "print(total)"
   ]
  },
  {
   "cell_type": "markdown",
   "metadata": {},
   "source": [
    "#### wap to add all numbers that are divisible by 3 ranging from 1 to 100"
   ]
  },
  {
   "cell_type": "code",
   "execution_count": null,
   "metadata": {},
   "outputs": [],
   "source": [
    "total = 0\n",
    "for i in range(1,100):\n",
    "    if i % 3 == 0:\n",
    "        total += i\n",
    "print(total)"
   ]
  },
  {
   "cell_type": "code",
   "execution_count": null,
   "metadata": {},
   "outputs": [],
   "source": [
    "total = 0\n",
    "for i in range(3,100,3):\n",
    "    total += i\n",
    "print(total)"
   ]
  },
  {
   "cell_type": "markdown",
   "metadata": {},
   "source": [
    "#### wap to calculate the average(mean) of all numbers from 1 to 100"
   ]
  },
  {
   "cell_type": "code",
   "execution_count": null,
   "metadata": {},
   "outputs": [],
   "source": [
    "total = 0\n",
    "for i in range(1,100):\n",
    "    total += i\n",
    "mean = total / 99 \n",
    "print(mean)"
   ]
  },
  {
   "cell_type": "markdown",
   "metadata": {},
   "source": [
    "break"
   ]
  },
  {
   "cell_type": "code",
   "execution_count": null,
   "metadata": {},
   "outputs": [],
   "source": [
    "data = [1,2,3,4,5,6,-1,7,8,9,10]\n",
    "\n",
    "for val in data:\n",
    "    if val < 0:\n",
    "        break\n",
    "    print(val,end=' ')"
   ]
  },
  {
   "cell_type": "code",
   "execution_count": null,
   "metadata": {},
   "outputs": [],
   "source": [
    "for i in range(1,100):\n",
    "    print(i)\n",
    "    if i % 8 == 0:\n",
    "        break"
   ]
  },
  {
   "cell_type": "code",
   "execution_count": null,
   "metadata": {},
   "outputs": [],
   "source": [
    "size = 100\n",
    "start = 1\n",
    "\n",
    "while start <= size:\n",
    "    name = input(\"enter a name of product\")\n",
    "    if name == \"end\":\n",
    "        break\n",
    "    print(f\"you entered {name}\")\n",
    "    start+=2\n",
    "print(\"the end\")"
   ]
  },
  {
   "cell_type": "code",
   "execution_count": null,
   "metadata": {},
   "outputs": [],
   "source": [
    "names= ['Alice', 'Bob','', 'Charlie','','David','','','Eve', 'Frank']\n",
    "print(len(names))"
   ]
  },
  {
   "cell_type": "code",
   "execution_count": null,
   "metadata": {},
   "outputs": [],
   "source": [
    "for name in names:\n",
    "    print(f'i know {name}')"
   ]
  },
  {
   "cell_type": "code",
   "execution_count": 12,
   "metadata": {},
   "outputs": [
    {
     "name": "stdout",
     "output_type": "stream",
     "text": [
      "i know Alice\n",
      "i know Bob\n",
      "i know Charlie\n",
      "i know David\n",
      "i know Eve\n",
      "i know Frank\n"
     ]
    }
   ],
   "source": [
    "for name in names:\n",
    "    if name == '':\n",
    "        continue\n",
    "    print(f'i know {name}')"
   ]
  },
  {
   "cell_type": "code",
   "execution_count": 13,
   "metadata": {},
   "outputs": [
    {
     "name": "stdout",
     "output_type": "stream",
     "text": [
      "i know Alice\n",
      "i know Bob\n",
      "i know Charlie\n",
      "i know David\n",
      "i know Eve\n",
      "i know Frank\n"
     ]
    }
   ],
   "source": [
    "for name in names:\n",
    "    if len(name) > 0:\n",
    "        print(f'i know {name}')"
   ]
  },
  {
   "cell_type": "code",
   "execution_count": 19,
   "metadata": {},
   "outputs": [
    {
     "name": "stdout",
     "output_type": "stream",
     "text": [
      "you have written\n",
      "the end has no beginning\n",
      "and thus the story ends\n",
      "\n"
     ]
    }
   ],
   "source": [
    "story = \"\"\n",
    "while True:\n",
    "    line = input(\"enter a line\")\n",
    "    if line == \"end\": \n",
    "        break\n",
    "    else:\n",
    "        story += line + \"\\n\"\n",
    "print(\"you have written\")\n",
    "print(story)"
   ]
  },
  {
   "cell_type": "code",
   "execution_count": 17,
   "metadata": {},
   "outputs": [
    {
     "name": "stdout",
     "output_type": "stream",
     "text": [
      "Once upon a time\n",
      "There was a person\n",
      "who lived near the river\n",
      "the river was not clean\n",
      "so he drank the water only after filtering it\n",
      "\n"
     ]
    }
   ],
   "source": [
    "print(story)"
   ]
  },
  {
   "cell_type": "code",
   "execution_count": 21,
   "metadata": {},
   "outputs": [
    {
     "name": "stdout",
     "output_type": "stream",
     "text": [
      "apple\n",
      "banana\n",
      "cherry\n"
     ]
    }
   ],
   "source": [
    "fruits = ['apple', 'banana', 'cherry', 'date', 'eggplant']\n",
    "\n",
    "for fruit in fruits:\n",
    "    print(fruit)\n",
    "    if fruit == 'cherry':\n",
    "        break\n",
    "else:\n",
    "    print('all fruits are listed')"
   ]
  },
  {
   "cell_type": "code",
   "execution_count": 28,
   "metadata": {},
   "outputs": [
    {
     "name": "stdout",
     "output_type": "stream",
     "text": [
      "4 is not a prime number\n"
     ]
    }
   ],
   "source": [
    "number = int(input('enter a number'))\n",
    "for i in range(2,number):\n",
    "    if number % i == 0:\n",
    "        print(f'{number} is not a prime number')\n",
    "        break\n",
    "else:\n",
    "    print(f'{number} is a 👑 prime number')"
   ]
  },
  {
   "cell_type": "markdown",
   "metadata": {},
   "source": [
    "##### wap a to add all numbers of the digit using while loop\n",
    "ex: 1234 becomes 10"
   ]
  },
  {
   "cell_type": "code",
   "execution_count": null,
   "metadata": {},
   "outputs": [],
   "source": []
  }
 ],
 "metadata": {
  "interpreter": {
   "hash": "203ec5af3e26acf3e3c83a4183d4b4efe59642f60e2721ccf6236536a59ece46"
  },
  "kernelspec": {
   "display_name": "Python 3.9.7 ('base')",
   "language": "python",
   "name": "python3"
  },
  "language_info": {
   "codemirror_mode": {
    "name": "ipython",
    "version": 3
   },
   "file_extension": ".py",
   "mimetype": "text/x-python",
   "name": "python",
   "nbconvert_exporter": "python",
   "pygments_lexer": "ipython3",
   "version": "3.9.7"
  },
  "orig_nbformat": 4
 },
 "nbformat": 4,
 "nbformat_minor": 2
}
