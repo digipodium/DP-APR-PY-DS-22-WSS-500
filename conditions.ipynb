{
 "cells": [
  {
   "cell_type": "markdown",
   "metadata": {},
   "source": [
    "### WAP to calculate the total bill of customer, gst is 5%. if the amount is less than 500 then give discount of 10%, else give discount of 20%."
   ]
  },
  {
   "cell_type": "code",
   "execution_count": 10,
   "metadata": {},
   "outputs": [
    {
     "name": "stdout",
     "output_type": "stream",
     "text": [
      "445.62\n"
     ]
    }
   ],
   "source": [
    "amt = float(input(\"enter bill amt:\"))\n",
    "gst = amt * .05\n",
    "total = amt + gst\n",
    "if total < 500:\n",
    "    disc = total * .1\n",
    "    final = total - disc\n",
    "    print(final)\n",
    "else:\n",
    "    disc = total * .2\n",
    "    final = total - disc\n",
    "    print(final)\n"
   ]
  },
  {
   "cell_type": "code",
   "execution_count": 12,
   "metadata": {},
   "outputs": [
    {
     "name": "stdout",
     "output_type": "stream",
     "text": [
      "yes\n"
     ]
    }
   ],
   "source": [
    "x = 20\n",
    "if x > 10:\n",
    "    print('yes')\n",
    "else:\n",
    "    print('no')"
   ]
  },
  {
   "cell_type": "code",
   "execution_count": 14,
   "metadata": {},
   "outputs": [
    {
     "name": "stdout",
     "output_type": "stream",
     "text": [
      "no\n"
     ]
    }
   ],
   "source": [
    "print('yes') if x < 10 else print('no') # optional one-liner"
   ]
  },
  {
   "cell_type": "code",
   "execution_count": null,
   "metadata": {},
   "outputs": [],
   "source": []
  }
 ],
 "metadata": {
  "interpreter": {
   "hash": "e57a68d6f262d97f125619281d03f1809b3b5ef85e9f1be4b8c94bbbf10b388b"
  },
  "kernelspec": {
   "display_name": "Python 3.9.7 ('base')",
   "language": "python",
   "name": "python3"
  },
  "language_info": {
   "codemirror_mode": {
    "name": "ipython",
    "version": 3
   },
   "file_extension": ".py",
   "mimetype": "text/x-python",
   "name": "python",
   "nbconvert_exporter": "python",
   "pygments_lexer": "ipython3",
   "version": "3.9.7"
  },
  "orig_nbformat": 4
 },
 "nbformat": 4,
 "nbformat_minor": 2
}
